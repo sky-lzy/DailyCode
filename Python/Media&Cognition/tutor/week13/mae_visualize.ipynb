{
 "cells": [
  {
   "cell_type": "markdown",
   "id": "15c2148f-c1b0-46e0-87f6-2db29e13d5b8",
   "metadata": {},
   "source": [
    "## Masked Autoencoders（MAE）的可视化\n",
    "\n",
    "本次教程改编自Masked Autoencoders (MAE)的[官方GitHub代码](https://github.com/facebookresearch/mae)。\n",
    "\n",
    "MAE模型向一张输入图像中加入随机掩码，随后使用一个视觉Transformer模型恢复掩码部分的图像，以此进行自监督学习。\n",
    "\n",
    "通过这种方式，MAE仅需要无标签的图像就可以进行训练，可作为下游任务的预训练模型。\n",
    "\n",
    "<img src=\"images/mae.png\" width=\"50%\" height=\"50%\">\n"
   ]
  },
  {
   "cell_type": "markdown",
   "id": "fffa39c9-ca9b-4da0-90a4-de96bebbf755",
   "metadata": {},
   "source": [
    "### 准备工作\n",
    "\n",
    "#### 1. 安装timm库\n",
    "\n",
    "timm全称为Py**T**orch **Im**age **M**odels，包含了各种计算机视觉任务的模型和方法。\n",
    "\n",
    "本次教程将使用timm库中Vision Transformer模型提供的PatchEmbed和Block方法。\n",
    "\n",
    "其中，PatchEmbed将图像进行分块，并将每一块映射为一个特征向量。Block则为Transformer层的实现。\n",
    "\n"
   ]
  },
  {
   "cell_type": "code",
   "execution_count": null,
   "id": "eb4ed115",
   "metadata": {},
   "outputs": [],
   "source": [
    "!pip install timm==0.4.5"
   ]
  },
  {
   "cell_type": "markdown",
   "id": "2063f3cb",
   "metadata": {},
   "source": [
    "#### 2. 下载预训练模型\n",
    "视觉Transformer模型较大，预训练的模型可以通过[清华云盘](https://cloud.tsinghua.edu.cn/f/f551ef07d2ce42e39001/?dl=1)下载。\n",
    "\n",
    "请将下载后的模型文件(mae_visualize_vit_large.pth)放到pretrained_model目录下。"
   ]
  },
  {
   "cell_type": "markdown",
   "id": "f0fb1393",
   "metadata": {},
   "source": [
    "#### 3. 导入所需要的库"
   ]
  },
  {
   "cell_type": "code",
   "execution_count": null,
   "id": "1eae7403-f458-4f55-a557-4e045bd6f679",
   "metadata": {},
   "outputs": [],
   "source": [
    "import torch\n",
    "import numpy as np\n",
    "\n",
    "import matplotlib.pyplot as plt\n",
    "import cv2\n",
    "\n",
    "import models_mae"
   ]
  },
  {
   "cell_type": "markdown",
   "id": "2f7797ef-412a-439f-911e-3be294047629",
   "metadata": {},
   "source": [
    "### 定义所需函数"
   ]
  },
  {
   "cell_type": "code",
   "execution_count": null,
   "id": "4573e6be-935a-4106-8c06-e467552b0e3d",
   "metadata": {},
   "outputs": [],
   "source": [
    "# ImageNet数据集图像像素的均值和标准差\n",
    "# MAE读取图像时会使用该均值和标准差进行归一化\n",
    "imagenet_mean = np.array([0.485, 0.456, 0.406])\n",
    "imagenet_std = np.array([0.229, 0.224, 0.225])\n",
    "\n",
    "def load_image(image_path):\n",
    "    img = cv2.imread(image_path)\n",
    "    img = cv2.cvtColor(img, cv2.COLOR_BGR2RGB)\n",
    "    img = cv2.resize(img, (224, 224))\n",
    "    img = img / 255.\n",
    "\n",
    "    assert img.shape == (224, 224, 3)\n",
    "\n",
    "    # 归一化\n",
    "    img = img - imagenet_mean\n",
    "    img = img / imagenet_std\n",
    "    return img\n",
    "\n",
    "def show_image(image, title=''):\n",
    "    assert image.shape[2] == 3  # 输入为RGB图像\n",
    "    plt.imshow(torch.clip((image * imagenet_std + imagenet_mean) * 255, 0, 255).int())\n",
    "    plt.title(title, fontsize=16)\n",
    "    plt.axis('off')\n",
    "    return\n",
    "\n",
    "def prepare_model(chkpt_dir, arch='mae_vit_large_patch16'):\n",
    "    # Python中的getattr(object, name)函数用于从一个对象中获取命名为name的属性\n",
    "    # getattr(models_mae, arch)返回的是函数本身，之后再加括号()得到该函数返回值\n",
    "    model = getattr(models_mae, arch)()\n",
    "    checkpoint = torch.load(chkpt_dir, map_location='cpu')\n",
    "    msg = model.load_state_dict(checkpoint['model'], strict=False)\n",
    "    print(msg)\n",
    "    return model\n",
    "\n",
    "def run_one_image(img, model):\n",
    "    # x: hwc 高-宽-通道\n",
    "    x = torch.tensor(img)\n",
    "    # 添加batch维度\n",
    "    x = x.unsqueeze(dim=0)\n",
    "\n",
    "    # 爱因斯坦和，使用符号标记对张量维度进行变换\n",
    "    # 等价于x.permute(0, 3, 1, 2)\n",
    "    x = torch.einsum('nhwc->nchw', x)\n",
    "\n",
    "    # 运行MAE\n",
    "    loss, y, mask = model(x.float(), mask_ratio=0.75)  # 对图像中75%的部分添加掩码\n",
    "    y = model.unpatchify(y)  # 对分块后的图像进行复原\n",
    "    y = torch.einsum('nchw->nhwc', y).detach().cpu()\n",
    "\n",
    "    # visualize the mask\n",
    "    mask = mask.detach()\n",
    "    mask = mask.unsqueeze(-1).repeat(1, 1, model.patch_embed.patch_size[0]**2 *3)  # (N, H*W, p*p*3)\n",
    "    mask = model.unpatchify(mask)\n",
    "    mask = torch.einsum('nchw->nhwc', mask).detach().cpu()\n",
    "    \n",
    "    x = torch.einsum('nchw->nhwc', x)\n",
    "\n",
    "    # 加入掩码的图像\n",
    "    im_masked = x * (1 - mask)  # mask中1表示此处加入掩码\n",
    "\n",
    "    # 重建后的图像与原图叠加（原图中未加入掩码的部分保留）\n",
    "    im_paste = x * (1 - mask) + y * mask\n",
    "\n",
    "    # 可视化\n",
    "    plt.rcParams['figure.figsize'] = [24, 24]\n",
    "\n",
    "    plt.subplot(1, 4, 1)\n",
    "    show_image(x[0], \"original\")\n",
    "\n",
    "    plt.subplot(1, 4, 2)\n",
    "    show_image(im_masked[0], \"masked\")\n",
    "\n",
    "    plt.subplot(1, 4, 3)\n",
    "    show_image(y[0], \"reconstruction\")\n",
    "\n",
    "    plt.subplot(1, 4, 4)\n",
    "    show_image(im_paste[0], \"reconstruction + visible\")\n",
    "\n",
    "    plt.show()"
   ]
  },
  {
   "cell_type": "markdown",
   "id": "8b7e691d-93d2-439f-91d6-c22716a897b5",
   "metadata": {},
   "source": [
    "### 载入预训练MAE模型"
   ]
  },
  {
   "cell_type": "code",
   "execution_count": null,
   "id": "fd2d7da9-f75c-4b27-a84b-6d1247f73a7d",
   "metadata": {},
   "outputs": [],
   "source": [
    "chkpt_path = 'pretrained_model/mae_visualize_vit_large.pth'\n",
    "model_mae = prepare_model(chkpt_path)\n",
    "print('Model loaded.')"
   ]
  },
  {
   "cell_type": "markdown",
   "id": "a92a06e7-3b6d-4c33-9eb2-15e560a4ce42",
   "metadata": {},
   "source": [
    "### 读取一张图像"
   ]
  },
  {
   "cell_type": "code",
   "execution_count": null,
   "id": "27755296-05cc-4344-90de-a8ab3878f485",
   "metadata": {},
   "outputs": [],
   "source": [
    "img = load_image('images/fox.jpg')\n",
    "plt.rcParams['figure.figsize'] = [5, 5]\n",
    "show_image(torch.tensor(img))"
   ]
  },
  {
   "cell_type": "markdown",
   "id": "7d15a0a7-c093-439a-9a4d-c37ce0c0eaa6",
   "metadata": {},
   "source": [
    "### Run MAE on the image"
   ]
  },
  {
   "cell_type": "code",
   "execution_count": null,
   "id": "1b0eb444-e403-44a9-a370-ff2326f78f30",
   "metadata": {},
   "outputs": [],
   "source": [
    "torch.manual_seed(2)  # 加入随机种子固定掩码的位置\n",
    "print('MAE with pixel reconstruction:')\n",
    "run_one_image(img, model_mae)"
   ]
  },
  {
   "cell_type": "markdown",
   "id": "44850ba7",
   "metadata": {},
   "source": [
    "### 试试另一张图像"
   ]
  },
  {
   "cell_type": "code",
   "execution_count": null,
   "id": "1c5e0018",
   "metadata": {},
   "outputs": [],
   "source": [
    "torch.manual_seed(2)\n",
    "img = load_image('images/airplane.png')\n",
    "run_one_image(img, model_mae)"
   ]
  },
  {
   "cell_type": "markdown",
   "id": "c595984f",
   "metadata": {},
   "source": [
    "### 用不同风格的图像验证模型的泛化能力"
   ]
  },
  {
   "cell_type": "code",
   "execution_count": null,
   "id": "99a98672",
   "metadata": {},
   "outputs": [],
   "source": [
    "torch.manual_seed(6)\n",
    "img = load_image('images/totoro.png')\n",
    "run_one_image(img, model_mae)"
   ]
  }
 ],
 "metadata": {
  "interpreter": {
   "hash": "30a1fe334b7185a3f235b3429d4feb8fc6f789bd41366916114aed5d02e629e0"
  },
  "kernelspec": {
   "display_name": "Python 3.7.13 ('venv')",
   "language": "python",
   "name": "python3"
  },
  "language_info": {
   "codemirror_mode": {
    "name": "ipython",
    "version": 3
   },
   "file_extension": ".py",
   "mimetype": "text/x-python",
   "name": "python",
   "nbconvert_exporter": "python",
   "pygments_lexer": "ipython3",
   "version": "3.7.13"
  }
 },
 "nbformat": 4,
 "nbformat_minor": 5
}
