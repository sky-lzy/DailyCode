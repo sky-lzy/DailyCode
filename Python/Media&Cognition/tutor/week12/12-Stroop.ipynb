{
 "cells": [
  {
   "cell_type": "markdown",
   "metadata": {},
   "source": [
    "## Stroop实验\n",
    "\n",
    "在本次的编程教程中，我们将实现一个简单的Stroop实验样本采集程序，并分析实验结果。\n",
    "\n",
    "### 0.安装和导入必要的包"
   ]
  },
  {
   "cell_type": "code",
   "execution_count": null,
   "metadata": {},
   "outputs": [],
   "source": [
    "%pip install opencv-python pillow numpy matplotlib seaborn pandas scipy"
   ]
  },
  {
   "cell_type": "code",
   "execution_count": 1,
   "metadata": {},
   "outputs": [],
   "source": [
    "import cv2\n",
    "from PIL import Image, ImageDraw, ImageFont\n",
    "import numpy as np\n",
    "import matplotlib.pyplot as plt\n",
    "import random\n",
    "import time\n",
    "import seaborn\n",
    "import pandas as pd\n",
    "from scipy import stats"
   ]
  },
  {
   "cell_type": "markdown",
   "metadata": {},
   "source": [
    "### 1. 生成图像"
   ]
  },
  {
   "cell_type": "code",
   "execution_count": 2,
   "metadata": {},
   "outputs": [],
   "source": [
    "# 图像大小\n",
    "H,W=600,800"
   ]
  },
  {
   "cell_type": "code",
   "execution_count": 3,
   "metadata": {},
   "outputs": [],
   "source": [
    "# 设置字体\n",
    "fonts={}\n",
    "def font(size):\n",
    "    if size not in fonts:\n",
    "        fonts[size]=ImageFont.truetype('NotoSansSC-Regular.otf',size)\n",
    "    return fonts[size]"
   ]
  },
  {
   "cell_type": "code",
   "execution_count": 4,
   "metadata": {},
   "outputs": [],
   "source": [
    "# 绘制文本\n",
    "def draw_text(text,color,size):\n",
    "    # 创建空白图像\n",
    "    im=Image.new('RGB',(W,H))\n",
    "    d=ImageDraw.Draw(im)\n",
    "    f=font(size)\n",
    "    # 获取文本大小\n",
    "    w,h=d.textsize(text,f)\n",
    "    h*=1.2\n",
    "    # 居中绘制\n",
    "    d.text(((W-w)//2,(H-h)//2),text,color,f)\n",
    "    return im"
   ]
  },
  {
   "cell_type": "code",
   "execution_count": 5,
   "metadata": {},
   "outputs": [],
   "source": [
    "# 生成测试图片\n",
    "colors=[(255,0,0),(0,255,0),(0,200,255)]\n",
    "text_cn='红绿蓝'\n",
    "text_en='red green blue'.split()\n",
    "images=[[[draw_text(t,c,200) for t in tt] for tt in zip(text_cn,text_en)] for c in colors]\n",
    "blank=Image.new('RGB',(W,H))\n",
    "start=draw_text('按任意键开始',(255,255,255),100)"
   ]
  },
  {
   "cell_type": "code",
   "execution_count": 6,
   "metadata": {},
   "outputs": [
    {
     "data": {
      "image/png": "[encoded data removed]",
      "text/plain": [
       "<Figure size 576x288 with 18 Axes>"
      ]
     },
     "metadata": {
      "needs_background": "light"
     },
     "output_type": "display_data"
    }
   ],
   "source": [
    "# 看一下效果\n",
    "for i in range(18):\n",
    "    plt.subplot(3,6,i+1)\n",
    "    a,b=divmod(i,6)\n",
    "    c,b=divmod(b,3)\n",
    "    plt.imshow(images[a][b][c])\n",
    "    plt.axis('off')\n",
    "plt.gcf().set_size_inches([8,4])\n",
    "plt.tight_layout()\n",
    "plt.show()"
   ]
  },
  {
   "cell_type": "markdown",
   "metadata": {},
   "source": [
    "### 2. 采集实验数据\n",
    "\n",
    "运行下面的单元格会弹出一个窗口\n",
    "\n",
    "**窗口有可能是最小化的，请从任务栏图标点开**\n",
    "\n",
    "#### 实验说明\n",
    "\n",
    "1. 请在文本出现的同时迅速回答文本的**显示颜色**，而非字面含义颜色\n",
    "   \n",
    "2. 回答方式为按下键盘上方那一排数字键中的`1` `2` `3`，分别对应`红` `绿` `蓝`\n",
    "\n",
    "3. 请在测试图像出现后按一次键，不要按多余的键\n",
    "\n",
    "4. 关闭窗口或者按 `X` 键结束样本采集\n",
    "\n",
    "#### 2.1 熟悉实验流程\n",
    "\n",
    "下面先简单热身一下"
   ]
  },
  {
   "cell_type": "code",
   "execution_count": 7,
   "metadata": {},
   "outputs": [],
   "source": [
    "try:\n",
    "    # 显示开始界面\n",
    "    cv2.imshow('Test',np.array(start))\n",
    "    cv2.waitKey(0)\n",
    "    while True:\n",
    "        for i in range(3):\n",
    "            # 显示空白\n",
    "            cv2.imshow('Test',np.array(blank))\n",
    "            # 等待1毫秒，作用为刷新显示\n",
    "            cv2.waitKey(1)\n",
    "            # 等1秒\n",
    "            time.sleep(1)\n",
    "            # 显示测试图像\n",
    "            # 因为opencv默认图像颜色通道为B、G、R，而我们的图像是R、G、B，需要转换一下\n",
    "            cv2.imshow('Test',np.array(images[i][random.randint(0,2)][random.randint(0,1)])[:,:,[2,1,0]])\n",
    "            # 获取按键输入，`1` `2` `3`的按键值分别为49 50 51\n",
    "            key=cv2.waitKey(0)\n",
    "            assert ord('x')!=key!=-1\n",
    "            if key==49+i:\n",
    "                # 回答正确\n",
    "                cv2.imshow('Test',np.array(draw_text(f'✓',(255,255,255),100)))\n",
    "                cv2.waitKey(1)\n",
    "            else:\n",
    "                # 回答错误\n",
    "                cv2.imshow('Test',np.array(draw_text(f'×',(255,255,255),100)))\n",
    "                cv2.waitKey(1)\n",
    "            time.sleep(0.5)\n",
    "except:\n",
    "    try:\n",
    "        cv2.waitKey(1)\n",
    "        cv2.destroyWindow('Test')\n",
    "        cv2.waitKey(1)\n",
    "        cv2.destroyAllWindows()\n",
    "        cv2.waitKey(1)\n",
    "    except:\n",
    "        pass"
   ]
  },
  {
   "cell_type": "markdown",
   "metadata": {},
   "source": [
    "#### 2.2 正式测试\n",
    "\n",
    "我们统计中/英文下正确回答的反应时间\n",
    "\n",
    "请采集尽可能多的数据，最好大于72个样本"
   ]
  },
  {
   "cell_type": "code",
   "execution_count": 28,
   "metadata": {},
   "outputs": [],
   "source": [
    "# 记录中英文回答正确所需时间\n",
    "correct_time=[[],[]]\n",
    "# 一共3x3x2种题型\n",
    "opt=[(i,j,k) for i in range(3) for j in range(3) for k in range(2)]\n",
    "# 统计样本数\n",
    "cnt=0"
   ]
  },
  {
   "cell_type": "code",
   "execution_count": 29,
   "metadata": {},
   "outputs": [
    {
     "name": "stdout",
     "output_type": "stream",
     "text": [
      "数据采集结束，共72个样本\n"
     ]
    }
   ],
   "source": [
    "try:\n",
    "    cv2.imshow('Test',np.array(start))\n",
    "    cv2.waitKey(0)\n",
    "    while True:\n",
    "        random.shuffle(opt)\n",
    "        for i,j,k in opt:\n",
    "            cv2.imshow('Test',np.array(blank))\n",
    "            cv2.waitKey(1)\n",
    "            time.sleep(1)\n",
    "            t=time.time()\n",
    "            cv2.imshow('Test',np.array(images[i][j][k])[:,:,[2,1,0]])\n",
    "            key=cv2.waitKey(0)\n",
    "            t=time.time()-t\n",
    "            assert ord('x')!=key!=-1\n",
    "            if key==49+i:\n",
    "                correct_time[k].append(t)\n",
    "                cnt+=1\n",
    "                cv2.imshow('Test',np.array(draw_text(f'✓{cnt}',(255,255,255),100)))\n",
    "                cv2.waitKey(1)\n",
    "            else:\n",
    "                cv2.imshow('Test',np.array(draw_text(f'×',(255,255,255),100)))\n",
    "                cv2.waitKey(1)\n",
    "            time.sleep(0.5)\n",
    "except:\n",
    "    try:\n",
    "        cv2.waitKey(1)\n",
    "        cv2.destroyWindow('Test')\n",
    "        cv2.waitKey(1)\n",
    "        cv2.destroyAllWindows()\n",
    "        cv2.waitKey(1)\n",
    "    except:\n",
    "        pass\n",
    "print(f'数据采集结束，共{cnt}个样本，其中中文{len(correct_time[0])}个，英文{len(correct_time[1])}个')\n",
    "if len(correct_time[0])==0 or len(correct_time[1])==0:\n",
    "    print('数据不足，请再多采集一点')"
   ]
  },
  {
   "cell_type": "markdown",
   "metadata": {},
   "source": [
    "### 3. 结果分析"
   ]
  },
  {
   "cell_type": "markdown",
   "metadata": {},
   "source": [
    "先简单介绍一下箱型图，它由美国的统计学家John Tukey于1977年发明，图中标出了三个四分位数：Q1、中位数(median)、Q3，即有25%的样本小于Q1，50%的样本小于中位数，75%的样本小于Q3。记IQR=Q3-Q1，我们在Q1-1.5IQR和Q3+1.5IQR的位置画两条竖线，表示样本理应大部分集中在这区域内，超出范围的称为离群值(outlier)。图示如下：\n",
    "\n",
    "<img src=\"./box_plot.png\" width=\"600px\"/>\n",
    "\n",
    "seaborn包提供了直接绘制箱型图的`boxplot`函数，我们用它绘制箱型图。"
   ]
  },
  {
   "cell_type": "code",
   "execution_count": 30,
   "metadata": {},
   "outputs": [
    {
     "data": {
      "image/png": "[encoded data removed]",
      "text/plain": [
       "<Figure size 432x288 with 1 Axes>"
      ]
     },
     "metadata": {},
     "output_type": "display_data"
    }
   ],
   "source": [
    "# 为了便于画图，将样本数补充为一样多\n",
    "c1,c2=correct_time\n",
    "l=max(len(c1),len(c2))\n",
    "c1=c1+[np.nan]*(l-len(c1))\n",
    "c2=c2+[np.nan]*(l-len(c2))\n",
    "\n",
    "df=pd.DataFrame({'CN':c1,'EN':c2})\n",
    "seaborn.set_style(\"whitegrid\")\n",
    "seaborn.boxplot(data=df,orient='v',width=0.4)\n",
    "plt.ylabel(\"Reaction Time / ms\")\n",
    "plt.show()"
   ]
  },
  {
   "cell_type": "code",
   "execution_count": 1,
   "metadata": {},
   "outputs": [
    {
     "name": "stdout",
     "output_type": "stream",
     "text": [
      "比较二者的反应时间中位数，我们可以发现文本为英文时反应速度更快。\n"
     ]
    }
   ],
   "source": [
    "if np.median(correct_time[0])>np.median(correct_time[1]):\n",
    "    print('比较二者的反应时间中位数，我们可以发现文本为英文时反应速度更快。')\n",
    "else:\n",
    "    print('比较二者的反应时间中位数，我们可以发现文本为中文时反应速度更快。')"
   ]
  },
  {
   "cell_type": "markdown",
   "metadata": {},
   "source": [
    "在数学上，我们可以使用[Mann-Whitney U测试](https://www.reneshbedre.com/blog/mann-whitney-u-test.html)判断“文本为中文时反应时间更长”这一结论的错误概率，写出假设如下：\n",
    "\n",
    "$H_0: p(x_i>y_i)=0.5$，即文本为中文和英文时反应时间中位数相近\n",
    "\n",
    "$H_1: p(x_i>y_i)>0.5$，即文本为中文时反应时间中位数比英文更长"
   ]
  },
  {
   "cell_type": "code",
   "execution_count": 5,
   "metadata": {},
   "outputs": [
    {
     "name": "stdout",
     "output_type": "stream",
     "text": [
      "计算出p值为0.1657，因此我们接受H1假设的错误概率为16.57%\n"
     ]
    }
   ],
   "source": [
    "p=stats.mannwhitneyu(x=correct_time[0],y=correct_time[1],alternative='greater').pvalue\n",
    "print(f'计算出p值为{p:.4f}，因此我们接受H1假设的错误概率为{p*100:.2f}%')"
   ]
  },
  {
   "cell_type": "code",
   "execution_count": null,
   "metadata": {},
   "outputs": [],
   "source": []
  }
 ],
 "metadata": {
  "interpreter": {
   "hash": "f94d0e3c4d33c587f71612a7beed7d13056c1d97b0ac00fd666eaa3ab16c3310"
  },
  "kernelspec": {
   "display_name": "Python 3.9.6 64-bit",
   "language": "python",
   "name": "python3"
  },
  "language_info": {
   "codemirror_mode": {
    "name": "ipython",
    "version": 3
   },
   "file_extension": ".py",
   "mimetype": "text/x-python",
   "name": "python",
   "nbconvert_exporter": "python",
   "pygments_lexer": "ipython3",
   "version": "3.9.6"
  },
  "orig_nbformat": 4
 },
 "nbformat": 4,
 "nbformat_minor": 2
}
