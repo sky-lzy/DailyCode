{
  "cells": [
    {
      "cell_type": "markdown",
      "metadata": {
        "colab_type": "text",
        "id": "Jz4vSWmSFtLl"
      },
      "source": [
        "# HMM 的实现\n",
        "\n",
        "本教程改编自Github[链接](https://github.com/shanguanma/Aligners/blob/master/HMM.ipynb)\n",
        "\n",
        "本教程利用 *Python* 实现 HMM 算法的前向过程和后向过程，并通过 Viterbi算法，在给定 HMM 模型和观测序列的条件下，求出可能性最大的状态序列\n",
        "\n",
        "- 状态序列是马尔可夫链，用转移概率描述\n",
        "- 每一状态对应一个可以观察的事件，用观测概率描述\n",
        "- Viterbi 算法利用动态规划求解最优路径，最优路径对应最大概率\n",
        "\n",
        "## 选择合适的数据结构\n",
        "\n",
        "在算法实现的过程中选择合适的数据结构，注意模型中需要包含：\n",
        "\n",
        "- N 个状态\n",
        "\n",
        "  用字符、字符串或数字表示，注意初始状态和最终状态可以显式表示\n",
        "\n",
        "- 状态转移概率\n",
        "  \n",
        "  初始状态转移到其他状态的概率：$\\pi = (\\pi_1, ..., \\pi_N)$\n",
        "\n",
        "  与时间无关的状态转移概率矩阵：${a_{ij}} = P(q_t= j |q_{t-1} =i) $\n",
        "\n",
        "  即假设$t-1$ 时刻的状态为 $i$，下一时刻转移到状态 $j$ 的概率\n",
        "  \n",
        "- 发射概率\n",
        "  \n",
        "  $b_i(O_t) = P(O_t| q_t = i)$\n",
        "\n",
        "\n",
        "  即在 $t$ 时刻的状态为 $i$ 的条件下，观测到符号 $O_t$ 的概率\n"
      ]
    },
    {
      "cell_type": "markdown",
      "metadata": {
        "colab_type": "text",
        "id": "5zPoKvKyNCQs"
      },
      "source": [
        "## 状态\n",
        "\n",
        "用字符表示各个状态\n"
      ]
    },
    {
      "cell_type": "code",
      "execution_count": 61,
      "metadata": {
        "colab": {},
        "colab_type": "code",
        "id": "YtvoqVT5NQOw"
      },
      "outputs": [],
      "source": [
        "states = ['Begin','S1','S2']"
      ]
    },
    {
      "cell_type": "markdown",
      "metadata": {
        "colab_type": "text",
        "id": "_MwQoB2XNbu0"
      },
      "source": [
        "## 状态转移概率矩阵\n",
        "\n",
        "\n",
        "用如下字典表示状态转移概率矩阵，字典的键(key)为包含两个字符的元组，表示从第一个字符所代表的状态转移到第二个字符所代表的状态，字典的值(value)为浮点数，表示转移概率"
      ]
    },
    {
      "cell_type": "code",
      "execution_count": 62,
      "metadata": {
        "colab": {},
        "colab_type": "code",
        "id": "a-GarnrVgQKL"
      },
      "outputs": [],
      "source": [
        "transitions = {\n",
        "               ('Begin', 'S1'): 0.5,\n",
        "               ('Begin', 'S2'): 0.5,\n",
        "               ('S1','S1') : 0.7,\n",
        "               ('S1','S2') : 0.3,\n",
        "               ('S2','S2') : 0.8,\n",
        "               ('S2','S1') : 0.2}\n",
        "    "
      ]
    },
    {
      "cell_type": "markdown",
      "metadata": {
        "colab_type": "text",
        "id": "8Z8KpAM7lijv"
      },
      "source": [
        "## 发射概率矩阵\n",
        "\n",
        "用如下字典表示发射概率矩阵，字典的键(key)为状态对应的字符，字典的值(value)为该状态下观测到各个字符的概率"
      ]
    },
    {
      "cell_type": "code",
      "execution_count": 63,
      "metadata": {
        "colab": {},
        "colab_type": "code",
        "id": "vcQ5JsWDnH1l"
      },
      "outputs": [],
      "source": [
        "emissions = {'S1' : {'A':0.4, 'C':0.1, 'G':0.4, 'T':0.1},\n",
        "            'S2': {'A': 0.1, 'C': 0.4,'G':0.1,'T':0.4}}"
      ]
    },
    {
      "cell_type": "markdown",
      "metadata": {
        "colab_type": "text",
        "id": "EvAVMgnTrY4V"
      },
      "source": [
        "## 样本集合的观测序列\n",
        "\n",
        "观测序列用如下字符串表示"
      ]
    },
    {
      "cell_type": "code",
      "execution_count": 64,
      "metadata": {
        "colab": {},
        "colab_type": "code",
        "id": "kO5WkRmkrijX"
      },
      "outputs": [],
      "source": [
        "sequence = 'ACT'"
      ]
    },
    {
      "cell_type": "markdown",
      "metadata": {
        "colab_type": "text",
        "id": "Jgzw75PTrt9h"
      },
      "source": [
        "## 初始化\n",
        "\n",
        "初始化一个全 0 矩阵"
      ]
    },
    {
      "cell_type": "code",
      "execution_count": 65,
      "metadata": {
        "colab": {},
        "colab_type": "code",
        "id": "apN0EAJNssyR"
      },
      "outputs": [],
      "source": [
        "def initialize_matrix(dim1, dim2, value=0):\n",
        "    F = []\n",
        "    for i in range(0, dim1):\n",
        "        F.append([])\n",
        "        for j in range(0,dim2):\n",
        "            F[i].append(value)\n",
        "    return F\n",
        "            "
      ]
    },
    {
      "cell_type": "markdown",
      "metadata": {
        "colab_type": "text",
        "id": "MJAXaM3yt23h"
      },
      "source": [
        "## 输出格式设计\n",
        "\n",
        "为了更方便地观察算法的计算过程和计算结果，定义了如下函数，\\<sos\\>(start of sequence) 对应于初始状态"
      ]
    },
    {
      "cell_type": "code",
      "execution_count": 66,
      "metadata": {
        "colab": {},
        "colab_type": "code",
        "id": "diVBN_7-uZRa"
      },
      "outputs": [],
      "source": [
        "def print_matrix(matrix, axis1,axis2):\n",
        "    w = '{:<10}'\n",
        "    print(w.format('') + w.format('<sos>') + ''.join([w.format(char) for char in axis2]))\n",
        "    for i, row in enumerate(matrix):\n",
        "        print(w.format(axis1[i]) + ''.join(['{:<10.3e}'.format(item) for item in row]))\n",
        "\n",
        "def print_matrix_p(matrix, axis1, axis2):\n",
        "    w = '{:<10}'\n",
        "    print(w.format('') + w.format('<sos>') + ''.join([w.format(char) for char in axis2]))\n",
        "    for i, row in enumerate(matrix):\n",
        "        print(w.format(axis1[i]) + ''.join(['{:<10s}'.format(item) for item in row]))\n"
      ]
    },
    {
      "cell_type": "markdown",
      "metadata": {
        "colab_type": "text",
        "id": "OJQul0fjDriP"
      },
      "source": [
        "## 前向算法\n",
        "\n",
        "初始化矩阵 $F$，行数和状态数对应，列数等于观测序列中的字符数加 1（第一列表示初始状态）\n",
        "\n",
        "在初始状态的概率为1，即矩阵的第(1, 1) 个元素的值为1"
      ]
    },
    {
      "cell_type": "code",
      "execution_count": 67,
      "metadata": {
        "colab": {
          "base_uri": "https://localhost:8080/",
          "height": 122
        },
        "colab_type": "code",
        "id": "HLmabpDXEfFG",
        "outputId": "e9f47f59-7f69-4784-bcaf-04301617c896"
      },
      "outputs": [
        {
          "name": "stdout",
          "output_type": "stream",
          "text": [
            "          <sos>     A         C         T         \n",
            "Begin     1.000e+00 0.000e+00 0.000e+00 0.000e+00 \n",
            "S1        0.000e+00 0.000e+00 0.000e+00 0.000e+00 \n",
            "S2        0.000e+00 0.000e+00 0.000e+00 0.000e+00 \n"
          ]
        }
      ],
      "source": [
        "F = initialize_matrix(len(states), len(sequence)+1)\n",
        "F[0][0] = 1\n",
        "print_matrix(F,states, sequence)"
      ]
    },
    {
      "cell_type": "markdown",
      "metadata": {
        "colab_type": "text",
        "id": "GaO890QKHpf-"
      },
      "source": [
        "采用前向变量$\\alpha_t (i)=P(O_1,O_2,...,O_t,q_t=S_i \\vert \\lambda$)，$1\\le t \\le T, 1\\le i \\le N$\n",
        "\n",
        "初始化$t=1$时刻不同状态的前向变量：对于每一个状态，初始状态转移到当前状态$i$得到的概率$\\pi_i$乘以当前状态下观测到第一个字符$O_1$的概率$b_i (O_1)$，得到对应的值: $\\alpha_1 (i)=\\pi_i b_i (O_1)$"
      ]
    },
    {
      "cell_type": "code",
      "execution_count": 68,
      "metadata": {
        "colab": {
          "base_uri": "https://localhost:8080/",
          "height": 122
        },
        "colab_type": "code",
        "id": "meF9xNooIV4o",
        "outputId": "22485385-d94b-4ea4-fb05-d4916655f8f7"
      },
      "outputs": [
        {
          "name": "stdout",
          "output_type": "stream",
          "text": [
            "          <sos>     A         C         T         \n",
            "Begin     1.000e+00 0.000e+00 0.000e+00 0.000e+00 \n",
            "S1        0.000e+00 2.000e-01 0.000e+00 0.000e+00 \n",
            "S2        0.000e+00 5.000e-02 0.000e+00 0.000e+00 \n"
          ]
        }
      ],
      "source": [
        "for i in range(1, len(states)):\n",
        "    F[i][1] = transitions[(states[0],states[i])] * emissions[states[i]][sequence[0]]\n",
        "\n",
        "print_matrix(F, states, sequence)\n",
        "# F[1][1] = transitions[states[0],states[1]] * emissions[states[1]][sequence[0]]\n",
        "# F[1][1] = transitions[('b','S1')] * emissions['S1']['A']\n",
        "# F[1][1] = 0.5 * 0.4\n",
        "# F[1][1] = 0.02\n",
        "# F[1][1] = 2.00e-01\n",
        "# F[2][1] = transitions[states[0],states[2]] * emissions[states[2]][sequence[0]]\n",
        "# F[2][1] = transitions[('b','S2')] * emissioms['S2']['A']\n",
        "# F[2][1] = 0.5 * 0.1\n",
        "# F[2][1] = 0.05\n",
        "# F[2][1] = 5.00e-02"
      ]
    },
    {
      "cell_type": "markdown",
      "metadata": {
        "colab_type": "text",
        "id": "jwdUun3bRDRd"
      },
      "source": [
        "\n",
        "\n",
        "计算$t+1$时刻不同状态的前向变量：$t$时刻状态$i$转移到$t+1$时刻状态$j$的概率$a_{ij}$乘以$t+1$时刻状态$j$观测到对应字符$O_{t+1}$的概率$b_j (O_{t+1})$，再乘以$t$时刻状态$i$的前向变量$\\alpha_t (i)$，对于$t$时刻所有可能状态求和得到对应的值：$\\alpha_{t+1}(j) = \\sum_{i=1}^N \\alpha_t (i) a_{ij} b_j(O_{t+1})$"
      ]
    },
    {
      "cell_type": "code",
      "execution_count": 69,
      "metadata": {
        "colab": {
          "base_uri": "https://localhost:8080/",
          "height": 122
        },
        "colab_type": "code",
        "id": "mrIeQ2P2R_hQ",
        "outputId": "8890d186-e45e-48e1-ebb9-a43a4e33d1e0"
      },
      "outputs": [
        {
          "name": "stdout",
          "output_type": "stream",
          "text": [
            "          <sos>     A         C         T         \n",
            "Begin     1.000e+00 0.000e+00 0.000e+00 0.000e+00 \n",
            "S1        0.000e+00 2.000e-01 1.500e-02 1.850e-03 \n",
            "S2        0.000e+00 5.000e-02 4.000e-02 1.460e-02 \n"
          ]
        }
      ],
      "source": [
        "# loops on the symbols ,from second symbol to last specify symbol (e.g: 0)\n",
        "for j in range(2, len(sequence) + 1):\n",
        "    # loops on the states, from second state to last state\n",
        "    for i in range(1, len(states)):\n",
        "        p_sum = 0\n",
        "        # loops on all of the possible previous states \n",
        "        for k in range(1, len(states)):\n",
        "            p_sum += F[k][j-1] * transitions[(states[k],states[i])] * emissions[states[i]][sequence[j-1]]\n",
        "        F[i][j] = p_sum\n",
        "\n",
        "print_matrix(F, states, sequence)\n",
        "\n",
        "\n"
      ]
    },
    {
      "cell_type": "markdown",
      "metadata": {
        "colab_type": "text",
        "id": "fn8uA_71bcP9"
      },
      "source": [
        "\n",
        "最后，对于不同的最终状态下观测到序列sequence的概率求和, 得到观测到序列ACT的概率，前向计算完成：$P(O\\vert \\lambda)=\\sum_{i=1}^N \\alpha_T (i)$"
      ]
    },
    {
      "cell_type": "code",
      "execution_count": 70,
      "metadata": {
        "colab": {
          "base_uri": "https://localhost:8080/",
          "height": 122
        },
        "colab_type": "code",
        "id": "EIZ1biNecR7l",
        "outputId": "37feca62-ad82-48a3-9484-86268e9e2f1b"
      },
      "outputs": [
        {
          "name": "stdout",
          "output_type": "stream",
          "text": [
            "观测到序列ACT的概率为： 1.645e-02 \n"
          ]
        }
      ],
      "source": [
        "# The final value  is equivalent to the end marker <eos>\n",
        "# of the sentence in end-to-end speech recognition.\n",
        "p_sum = 0\n",
        "for k in range(1, len(states)):\n",
        "    p_sum += F[k][len(sequence)]\n",
        "\n",
        "print('观测到序列ACT的概率为：', '{:<10.3e}'.format(p_sum))\n"
      ]
    },
    {
      "cell_type": "markdown",
      "metadata": {
        "colab_type": "text",
        "id": "RAxU4M48c9qS"
      },
      "source": [
        "将上述前向计算过程封装为函数，输入状态列表、状态转移概率、发射概率以及观测序列，返回观测序列出现的概率"
      ]
    },
    {
      "cell_type": "code",
      "execution_count": 71,
      "metadata": {
        "colab": {},
        "colab_type": "code",
        "id": "imJISkWegLO-"
      },
      "outputs": [],
      "source": [
        "def forward(states, transitions, emissions, sequence):\n",
        "    # initialize matrix, set <sos> to 1.\n",
        "    F = initialize_matrix(len(states), len(sequence)+1)\n",
        "    F[0][0] = 1\n",
        "    # first symbol(e.g: 'A') of sequence , initialize hmm state\n",
        "    for i in range(1, len(states)):\n",
        "        F[i][1] = transitions[(states[0],states[i])] * emissions[states[i]][sequence[0]]\n",
        "    \n",
        "    # Question:Why len(squence) + 1?\n",
        "    # Reply: Because if you want to compute last symbol(e.g.: 'G').\n",
        "    #        range function is [start,stop).\n",
        "    for j in range(2, len(sequence) + 1 ):\n",
        "        for i in range(1, len(states)):\n",
        "            p_sum = 0\n",
        "            for k in range(1, len(states) ):\n",
        "                # probabilty of previous symbol  * \n",
        "                # probablity from previous state to current state * \n",
        "                # observing symbol j-1 given current state i \n",
        "                p_sum += F[k][j-1] * transitions[(states[k],states[i])] * emissions[states[i]][sequence[j-1]]\n",
        "            F[i][j] = p_sum\n",
        "    \n",
        "    p_sum = 0\n",
        "    for k in range(1, len(states)):\n",
        "        p_sum += F[k][len(sequence)]\n",
        "    print('观测到序列ACT的概率为：', '{:<10.4e}'.format(p_sum))\n",
        "    return p_sum\n"
      ]
    },
    {
      "cell_type": "markdown",
      "metadata": {
        "colab_type": "text",
        "id": "iVXIp5EiYhzN"
      },
      "source": [
        "## 后向算法\n",
        "\n",
        "采用后向变量$\\beta_t (i)=P(O_{t+1},O_{t+2},...,O_T \\vert q_t=S_i, \\lambda)$，$1\\le t \\le T, 1\\le i \\le N$\n",
        "\n",
        "初始化$T$时刻的后向变量：$\\beta_T (i)=1, 1\\le i \\le N$，即矩阵最后一列除了初始状态外，后向变量$\\beta$均为1"
      ]
    },
    {
      "cell_type": "code",
      "execution_count": 72,
      "metadata": {
        "colab": {
          "base_uri": "https://localhost:8080/",
          "height": 122
        },
        "colab_type": "code",
        "id": "pBhCHcTCZg8v",
        "outputId": "64be5b8a-1166-4e81-a658-c502723bc23a"
      },
      "outputs": [
        {
          "name": "stdout",
          "output_type": "stream",
          "text": [
            "          <sos>     A         C         T         \n",
            "Begin     0.000e+00 0.000e+00 0.000e+00 0.000e+00 \n",
            "S1        0.000e+00 0.000e+00 0.000e+00 1.000e+00 \n",
            "S2        0.000e+00 0.000e+00 0.000e+00 1.000e+00 \n"
          ]
        }
      ],
      "source": [
        "F = initialize_matrix(len(states), len(sequence) + 1)\n",
        "for i in range(1, len(states)):\n",
        "    F[i][-1] = 1\n",
        "print_matrix(F, states, sequence)\n"
      ]
    },
    {
      "cell_type": "markdown",
      "metadata": {
        "colab_type": "text",
        "id": "4GMWuslyaj3f"
      },
      "source": [
        "\n",
        "\n",
        "计算t时刻的后向变量：$t$时刻状态$i$的后向变量，由$t$时刻状态$i$转移到$t+1$时刻状态$j$的概率$a_{ij}$，乘以下一时刻状态$j$中观测到对应字符的概率$b_j (O_{t+1})$，再乘以到$t+1$时刻为状态$j$的概率$\\beta_{t+1}(j)$，对于所有可能的状态求和得到矩阵中对应的值: $\\beta_t (i) = \\sum_{j=1}^N a_{ij} b_j(O_{t+1})\\beta_{t+1}(j)$，$t=T-1, T-2, ..., 1$，$ 1\\le i \\le N$"
      ]
    },
    {
      "cell_type": "code",
      "execution_count": 73,
      "metadata": {
        "colab": {
          "base_uri": "https://localhost:8080/",
          "height": 122
        },
        "colab_type": "code",
        "id": "Q3LxpiWhl_qJ",
        "outputId": "51a844de-b0b9-4e47-8414-d98d52d78a42"
      },
      "outputs": [
        {
          "name": "stdout",
          "output_type": "stream",
          "text": [
            "          <sos>     A         C         T         \n",
            "Begin     0.000e+00 0.000e+00 0.000e+00 0.000e+00 \n",
            "S1        0.000e+00 5.410e-02 1.900e-01 1.000e+00 \n",
            "S2        0.000e+00 1.126e-01 3.400e-01 1.000e+00 \n"
          ]
        }
      ],
      "source": [
        "# loops on the symbol\n",
        "for j in range(len(sequence) -1, 0, -1):\n",
        "    # loops on the states\n",
        "    for i in range(1, len(states)):\n",
        "        p_sum = 0\n",
        "        # loops on all of the possible succesive states\n",
        "        for k in range(1, len(states)):\n",
        "            p_sum += F[k][j+1] * transitions[(states[i],states[k])] * \\\n",
        "                     emissions[states[k]][sequence[j]]                                                                \n",
        "        F[i][j] = p_sum\n",
        "print_matrix(F, states,sequence)"
      ]
    },
    {
      "cell_type": "markdown",
      "metadata": {
        "colab_type": "text",
        "id": "WmET_NegpbQx"
      },
      "source": [
        "\n",
        "计算观测序列出现的概率：初始状态转移到状态$i$的概率$\\pi_i$乘以在该状态中观测到序列中第一个字符的概率$b_i(O_1)$，再乘以该状态在$t=1$时刻的后向变量$\\beta_1 (i)$，对于所有可能的状态求和得到观测到序列ACT的概率，后向计算完成：$P(O\\vert \\lambda) = \\sum_{i=1}^N \\beta_1 (i) \\pi_i b_i(o_1)$"
      ]
    },
    {
      "cell_type": "code",
      "execution_count": 74,
      "metadata": {
        "colab": {
          "base_uri": "https://localhost:8080/",
          "height": 122
        },
        "colab_type": "code",
        "id": "EhJDRwgOqAj7",
        "outputId": "6594f467-9a38-4f66-8094-ecedb4619855"
      },
      "outputs": [
        {
          "name": "stdout",
          "output_type": "stream",
          "text": [
            "          <sos>     A         C         T         \n",
            "Begin     1.645e-02 0.000e+00 0.000e+00 0.000e+00 \n",
            "S1        0.000e+00 5.410e-02 1.900e-01 1.000e+00 \n",
            "S2        0.000e+00 1.126e-01 3.400e-01 1.000e+00 \n",
            "观测到序列ACT的概率为： 1.6450e-02\n"
          ]
        }
      ],
      "source": [
        "p_sum = 0\n",
        "for k in range(1, len(states)):\n",
        "    p_sum += F[k][1] * transitions[(states[0],states[k])] * emissions[states[k]][sequence[0]]\n",
        "F[0][0] = p_sum\n",
        "print_matrix(F, states, sequence)\n",
        "print('观测到序列ACT的概率为：', '{:<10.4e}'.format(p_sum))"
      ]
    },
    {
      "cell_type": "markdown",
      "metadata": {
        "colab_type": "text",
        "id": "XkS8hb7wqwre"
      },
      "source": [
        "将上述后向计算过程封装为函数，输入状态列表、状态转移概率、发射概率以及观测序列，返回观测序列出现的概率"
      ]
    },
    {
      "cell_type": "code",
      "execution_count": 75,
      "metadata": {
        "colab": {},
        "colab_type": "code",
        "id": "yTBUwhtErA3c"
      },
      "outputs": [],
      "source": [
        "def backward(states, transitions, emissions,sequence):\n",
        "    # initialize matrix, set last symbol (e.g: T) to 1.\n",
        "    F = initialize_matrix(len(states), len(sequence) + 1)\n",
        "    for i in range(1, len(states)):\n",
        "        F[i][-1] = 1\n",
        "    \n",
        "    for j in range(len(sequence) -1, 0 , -1):\n",
        "        for i in range(1, len(states)):\n",
        "            p_sum = 0\n",
        "            for k in range(1, len(states)):\n",
        "                p_sum += F[k][j+1] * \\\n",
        "                         transitions[(states[i], states[k])] * \\\n",
        "                         emissions[states[k]][sequence[j]]\n",
        "            F[i][j] = p_sum\n",
        "\n",
        "\n",
        "    p_sum = 0\n",
        "    for k in range(1, len(states)):\n",
        "        p_sum += F[k][1] * \\\n",
        "                 transitions[(states[0],states[k])] * \\\n",
        "                 emissions[states[k]][sequence[0]]\n",
        "    F[0][0] = p_sum\n",
        "    print('观测到序列ACT的概率为：', '{:<10.4e}'.format(p_sum))\n",
        "    return p_sum"
      ]
    },
    {
      "cell_type": "markdown",
      "metadata": {
        "colab_type": "text",
        "id": "wRqvlnpIuBxm"
      },
      "source": [
        "# Viterbi 算法\n",
        "\n",
        "初始化矩阵 $F$，行数和状态数对应，列数等于观测序列中的字符数加 1（第一列表示初始状态）\n",
        "\n",
        "在初始状态的概率为1，即矩阵的第(1, 1) 个元素的值为1，矩阵 $FP$ 初始化元素全为初始状态"
      ]
    },
    {
      "cell_type": "code",
      "execution_count": 76,
      "metadata": {
        "colab": {
          "base_uri": "https://localhost:8080/",
          "height": 258
        },
        "colab_type": "code",
        "id": "x-8xwf5wwxny",
        "outputId": "de4fdbce-4a47-49c6-b09e-3e8d143ae853"
      },
      "outputs": [
        {
          "name": "stdout",
          "output_type": "stream",
          "text": [
            "          <sos>     A         C         T         \n",
            "Begin     1.000e+00 0.000e+00 0.000e+00 0.000e+00 \n",
            "S1        0.000e+00 0.000e+00 0.000e+00 0.000e+00 \n",
            "S2        0.000e+00 0.000e+00 0.000e+00 0.000e+00 \n",
            "\n",
            "\n",
            "\n",
            "          <sos>     A         C         T         \n",
            "Begin     Begin     Begin     Begin     Begin     \n",
            "S1        Begin     Begin     Begin     Begin     \n",
            "S2        Begin     Begin     Begin     Begin     \n"
          ]
        }
      ],
      "source": [
        "F = initialize_matrix(len(states), len(sequence) + 1)\n",
        "FP = initialize_matrix(len(states), len(sequence) + 1, states[0])\n",
        "F[0][0] = 1\n",
        "print_matrix(F, states, sequence)\n",
        "print(\"\\n\\n\")\n",
        "print_matrix_p(FP, states, sequence)"
      ]
    },
    {
      "cell_type": "markdown",
      "metadata": {
        "colab_type": "text",
        "id": "1ez5I0rtxnQO"
      },
      "source": [
        "与前向计算算法类似，初始化$t=1$时刻不同状态的值：对于每一个状态，初始状态转移到当前状态$i$得到的概率$\\pi_i$乘以当前状态下观测到第一个字符$O_1$的概率$b_i (O_1)$，得到对应的值: $\\delta_1 (i)=\\pi_i b_i (O_1)$"
      ]
    },
    {
      "cell_type": "code",
      "execution_count": 77,
      "metadata": {
        "colab": {
          "base_uri": "https://localhost:8080/",
          "height": 122
        },
        "colab_type": "code",
        "id": "A-eKK37yyIyc",
        "outputId": "dd4c4c7e-0201-46c6-8a06-2cbf067d8ef3"
      },
      "outputs": [
        {
          "name": "stdout",
          "output_type": "stream",
          "text": [
            "          <sos>     A         C         T         \n",
            "Begin     1.000e+00 0.000e+00 0.000e+00 0.000e+00 \n",
            "S1        0.000e+00 2.000e-01 0.000e+00 0.000e+00 \n",
            "S2        0.000e+00 5.000e-02 0.000e+00 0.000e+00 \n"
          ]
        }
      ],
      "source": [
        "for i in range(1, len(states)):\n",
        "    F[i][1] = transitions[(states[0], states[i])] * \\\n",
        "              emissions[states[i]][sequence[0]]\n",
        "print_matrix(F,states, sequence)\n"
      ]
    },
    {
      "cell_type": "markdown",
      "metadata": {
        "colab_type": "text",
        "id": "7zgO7VuvzjS2"
      },
      "source": [
        "\n",
        "\n",
        "为计算每一时刻状态序列出现相应观测值的最大概率，找到最大概率对应的状态索引，在 Viterbi 算法中，只计算最优路径的概率"
      ]
    },
    {
      "cell_type": "code",
      "execution_count": 78,
      "metadata": {
        "colab": {},
        "colab_type": "code",
        "id": "SRcuGu4L0fuD"
      },
      "outputs": [],
      "source": [
        "def get_max_val_index(values):\n",
        "    max_val = values[0]\n",
        "    max_index = 0 \n",
        "    for index, val in enumerate(values):\n",
        "        if val > max_val:\n",
        "            max_val = val\n",
        "            max_index = index\n",
        "    return max_val, max_index"
      ]
    },
    {
      "cell_type": "markdown",
      "metadata": {
        "colab_type": "text",
        "id": "zDFma3UV1Dim"
      },
      "source": [
        "\n",
        "\n",
        "对于$t$时刻的状态$j$，由$t-1$时刻不同状态转移到$t$时刻状态$j$的最大概率${max}_{1\\le i \\le N}[\\delta_{t-1} (i) a_{ij}]$乘以$t$时刻状态$j$下观测值为$O_t$的概率$b_j(O_t)$: $\\delta_{t}(j)={max}_{1\\le i \\le N}[\\delta_{t-1} (i) a_{ij}] b_j(O_t)$。同时更新矩阵FP对应位置为最大概率所对应的状态：$\\phi_t(j) = {argmax}_{1\\le i \\le N}[\\delta_{t-1} (i) a_{ij}]$"
      ]
    },
    {
      "cell_type": "code",
      "execution_count": 79,
      "metadata": {
        "colab": {
          "base_uri": "https://localhost:8080/",
          "height": 258
        },
        "colab_type": "code",
        "id": "dmX7z7VF17Oq",
        "outputId": "eae62590-a170-43e1-9c6d-be72c5014704"
      },
      "outputs": [
        {
          "name": "stdout",
          "output_type": "stream",
          "text": [
            "          <sos>     A         C         T         \n",
            "Begin     1.000e+00 0.000e+00 0.000e+00 0.000e+00 \n",
            "S1        0.000e+00 2.000e-01 1.400e-02 9.800e-04 \n",
            "S2        0.000e+00 5.000e-02 2.400e-02 7.680e-03 \n",
            "\n",
            "\n",
            "\n",
            "          <sos>     A         C         T         \n",
            "Begin     Begin     Begin     Begin     Begin     \n",
            "S1        Begin     Begin     S1        S1        \n",
            "S2        Begin     Begin     S1        S2        \n"
          ]
        }
      ],
      "source": [
        "# loops on the symbol, from the second to the last, it excluldes <eos>.\n",
        "for j in range(2, len(sequence) + 1):\n",
        "    # loops on the states, from second state(e.g: 'S1')\n",
        "    # to third state(e.g.: 'S2'), \n",
        "    # it excludes the last state(e.g.: 'e').\n",
        "    for i in range(1, len(states)):\n",
        "        values = []\n",
        "        # loops on all of the possible previous states\n",
        "        for k in range(1, len(states)):\n",
        "            # appends the value to the list(e.g.: values)\n",
        "            values.append(F[k][j-1] * \n",
        "                          transitions[(states[k],states[i])] * \n",
        "                          emissions[states[i]][sequence[j-1]])\n",
        "        # finds the maximum and the index of the maximum in the list\n",
        "        max_val, max_index = get_max_val_index(values)\n",
        "        # sets the probability to the maximum probability\n",
        "        F[i][j] = max_val\n",
        "        # because now it starts from second state, \n",
        "        # so it should be puls one. \n",
        "        FP[i][j] = states[max_index + 1]\n",
        "    \n",
        "print_matrix(F, states, sequence)\n",
        "print(\"\\n\\n\")\n",
        "print_matrix_p(FP, states, sequence)\n",
        "\n"
      ]
    },
    {
      "cell_type": "markdown",
      "metadata": {
        "colab_type": "text",
        "id": "EsG29vwG6xnQ"
      },
      "source": [
        "\n",
        "最可能的最终状态为概率矩阵F中最后一列中最大概率所对应的状态：$q^*_T = {argmax}_{1\\le i \\le N}[\\delta_{T} (i)]$"
      ]
    },
    {
      "cell_type": "code",
      "execution_count": 80,
      "metadata": {
        "colab": {
          "base_uri": "https://localhost:8080/",
          "height": 258
        },
        "colab_type": "code",
        "id": "dFQbyiDf7S5u",
        "outputId": "865c17f4-7537-4abf-b718-b4c5db8faff1"
      },
      "outputs": [
        {
          "name": "stdout",
          "output_type": "stream",
          "text": [
            "最可能的最终状态为： S2\n"
          ]
        }
      ],
      "source": [
        "\n",
        "max_val, max_index = get_max_val_index(F[1:][-1])\n",
        "print('最可能的最终状态为：', states[max_index + 1])\n"
      ]
    },
    {
      "cell_type": "markdown",
      "metadata": {
        "colab_type": "text",
        "id": "xUoZVEbh8cv_"
      },
      "source": [
        "将上述过程封装成函数"
      ]
    },
    {
      "cell_type": "code",
      "execution_count": 81,
      "metadata": {
        "colab": {},
        "colab_type": "code",
        "id": "tEqAwtl78zxg"
      },
      "outputs": [],
      "source": [
        "def viterbi(states, transitions, emissions, sequence):\n",
        "    # initialize two matrix,\n",
        "    F = initialize_matrix(len(states), len(sequence) + 1)\n",
        "    FP = initialize_matrix(len(states), len(sequence) + 1, states[0])\n",
        "    F[0][0] = 1 \n",
        "\n",
        "    for i in range(1, len(states)):\n",
        "        F[i][1] = transitions[(states[0], states[i])] * \\\n",
        "                  emissions[states[i]][sequence[0]]\n",
        "    \n",
        "    for j in range(2, len(sequence) + 1 ):\n",
        "        for i in range(1, len(states)):\n",
        "            values = []\n",
        "            for k in range(1, len(states)):\n",
        "                values.append(F[k][j-1] * \n",
        "                              transitions[(states[k], states[i])] *\n",
        "                              emissions[states[i]][sequence[j-1]])\n",
        "            max_val, max_index = get_max_val_index(values)\n",
        "            F[i][j] = max_val\n",
        "            FP[i][j] = states[max_index + 1]\n",
        "    return F, FP"
      ]
    },
    {
      "cell_type": "markdown",
      "metadata": {
        "colab_type": "text",
        "id": "tpl30qBSAYYR"
      },
      "source": [
        "为了追溯路径，我们需要从最可能的最终状态开始并遍历 $FP$ 矩阵，将每一时刻最可能的状态加入到路径中：$q^*_t = \\phi_{t+1}(q^*_{t+1}), t=T-1, T-2, ..., 1$"
      ]
    },
    {
      "cell_type": "code",
      "execution_count": 82,
      "metadata": {
        "colab": {},
        "colab_type": "code",
        "id": "U_gdDfJ3DFWx"
      },
      "outputs": [],
      "source": [
        "def traceback(states, F, FP):\n",
        "    # initialize an emtpy list\n",
        "    path = []\n",
        "    # the last state is the one with the maximum probability of the last columns\n",
        "    _, max_index = get_max_val_index(F[1:][-1])\n",
        "    current = states[max_index + 1]\n",
        "    # Loops on the symbols \n",
        "    for i in range(len(FP[0]) - 1, 0, -1):\n",
        "        # appends the current state to the path\n",
        "        path = [current] + path\n",
        "        # finds the index of the current state in the list\n",
        "        # of states and moves to the corresponding row of FP\n",
        "        current = FP[states.index(current)][i]\n",
        "        # the first element of the path is the begin state\n",
        "    path = ['Begin'] + path\n",
        "    # coverts the  list to a string where elements \n",
        "    # are separated by space\n",
        "    return ' '.join(path)"
      ]
    },
    {
      "cell_type": "markdown",
      "metadata": {
        "colab_type": "text",
        "id": "G5t1A8wLF1CS"
      },
      "source": [
        "得到最终路径"
      ]
    },
    {
      "cell_type": "code",
      "execution_count": 83,
      "metadata": {
        "colab": {
          "base_uri": "https://localhost:8080/",
          "height": 51
        },
        "colab_type": "code",
        "id": "xInCMbfnF_KQ",
        "outputId": "4b0aa1f1-27fb-4d57-b4e6-f70dc020699d"
      },
      "outputs": [
        {
          "name": "stdout",
          "output_type": "stream",
          "text": [
            "<sos> A C T\n",
            "Begin S1 S2 S2\n"
          ]
        }
      ],
      "source": [
        "path = traceback(states, F, FP)\n",
        "print('<sos> '+ ' '.join(sequence))\n",
        "print(path)"
      ]
    }
  ],
  "metadata": {
    "colab": {
      "authorship_tag": "ABX9TyPPvcZtywj17LnjCIw/FZm2",
      "collapsed_sections": [],
      "include_colab_link": true,
      "name": "HMM.ipynb",
      "provenance": []
    },
    "kernelspec": {
      "display_name": "Python 3",
      "name": "python3"
    },
    "language_info": {
      "codemirror_mode": {
        "name": "ipython",
        "version": 3
      },
      "file_extension": ".py",
      "mimetype": "text/x-python",
      "name": "python",
      "nbconvert_exporter": "python",
      "pygments_lexer": "ipython3",
      "version": "3.6.13"
    }
  },
  "nbformat": 4,
  "nbformat_minor": 0
}
